{
 "cells": [
  {
   "cell_type": "code",
   "execution_count": 1,
   "id": "9aecb282",
   "metadata": {},
   "outputs": [
    {
     "name": "stdout",
     "output_type": "stream",
     "text": [
      "[1 2 3 4]\n"
     ]
    }
   ],
   "source": [
    "import numpy as np \n",
    "\n",
    "a= np.array([1,2,3,4])\n",
    "\n",
    "print(a);"
   ]
  },
  {
   "cell_type": "code",
   "execution_count": 6,
   "id": "5eacdb78",
   "metadata": {},
   "outputs": [
    {
     "name": "stdout",
     "output_type": "stream",
     "text": [
      "Vectorized version 0.0ms\n",
      "25086.423299345286\n",
      "For loop 43.03383827209473ms\n"
     ]
    }
   ],
   "source": [
    "import time\n",
    "\n",
    "a= np.random.rand(100000)\n",
    "b = np.random.rand(100000)\n",
    "\n",
    "tic = time.time()\n",
    "c= np.dot(a,b)\n",
    "toc= time.time()\n",
    "\n",
    "print(\"Vectorized version \"+str(1000*(toc-tic))+\"ms\")\n",
    "\n",
    "c= 0\n",
    "tic = time.time()\n",
    "for i in range(100000):\n",
    "    c+=a[i]*b[i]\n",
    "    \n",
    "toc = time.time()\n",
    "\n",
    "print(c)\n",
    "print(\"For loop \"+ str(1000*(toc-tic))+\"ms\")"
   ]
  },
  {
   "cell_type": "code",
   "execution_count": 9,
   "id": "04a618b5",
   "metadata": {},
   "outputs": [
    {
     "name": "stdout",
     "output_type": "stream",
     "text": [
      "[[ 56.    0.    4.4  68. ]\n",
      " [  1.2 104.   52.    8. ]\n",
      " [  1.8 135.   99.    0.9]]\n"
     ]
    }
   ],
   "source": [
    "\n",
    "A= np.array([[56,0,4.4,68],\n",
    "           [1.2,104,52,8],\n",
    "           [1.8,135,99,0.9]])\n",
    "print(A)"
   ]
  },
  {
   "cell_type": "code",
   "execution_count": 10,
   "id": "97319be5",
   "metadata": {},
   "outputs": [
    {
     "name": "stdout",
     "output_type": "stream",
     "text": [
      "[ 59.  239.  155.4  76.9]\n"
     ]
    }
   ],
   "source": [
    "cal = A.sum(axis=0)\n",
    "print(cal)"
   ]
  },
  {
   "cell_type": "code",
   "execution_count": 11,
   "id": "c854abc2",
   "metadata": {},
   "outputs": [
    {
     "name": "stdout",
     "output_type": "stream",
     "text": [
      "[[94.91525424  0.          2.83140283 88.42652796]\n",
      " [ 2.03389831 43.51464435 33.46203346 10.40312094]\n",
      " [ 3.05084746 56.48535565 63.70656371  1.17035111]]\n"
     ]
    }
   ],
   "source": [
    "percentage=100* A/cal.reshape(1,4)\n",
    "print(percentage)"
   ]
  },
  {
   "cell_type": "code",
   "execution_count": 13,
   "id": "29bd4da0",
   "metadata": {},
   "outputs": [
    {
     "name": "stdout",
     "output_type": "stream",
     "text": [
      "[[ 0.31178817]\n",
      " [-0.69882198]\n",
      " [-0.53086747]\n",
      " [ 2.01706427]\n",
      " [ 1.0665986 ]]\n"
     ]
    }
   ],
   "source": [
    "k= np.random.randn(5,1)\n",
    "print(k)"
   ]
  },
  {
   "cell_type": "code",
   "execution_count": 14,
   "id": "c575bf8a",
   "metadata": {},
   "outputs": [
    {
     "name": "stdout",
     "output_type": "stream",
     "text": [
      "[[ 0.31178817 -0.69882198 -0.53086747  2.01706427  1.0665986 ]]\n"
     ]
    }
   ],
   "source": [
    "print(k.T)"
   ]
  },
  {
   "cell_type": "code",
   "execution_count": 17,
   "id": "a62a36b3",
   "metadata": {},
   "outputs": [
    {
     "name": "stdout",
     "output_type": "stream",
     "text": [
      "[[ 0.09721187 -0.21788443 -0.1655182   0.62889679  0.33255283]\n",
      " [-0.21788443  0.48835215  0.37098185 -1.40956884 -0.74536254]\n",
      " [-0.1655182   0.37098185  0.28182027 -1.0707938  -0.56622249]\n",
      " [ 0.62889679 -1.40956884 -1.0707938   4.06854826  2.15139792]\n",
      " [ 0.33255283 -0.74536254 -0.56622249  2.15139792  1.13763257]]\n"
     ]
    }
   ],
   "source": [
    "print (np.dot(k,k.T))"
   ]
  },
  {
   "cell_type": "code",
   "execution_count": null,
   "id": "bfdff16d",
   "metadata": {},
   "outputs": [],
   "source": []
  }
 ],
 "metadata": {
  "kernelspec": {
   "display_name": "Python 3 (ipykernel)",
   "language": "python",
   "name": "python3"
  },
  "language_info": {
   "codemirror_mode": {
    "name": "ipython",
    "version": 3
   },
   "file_extension": ".py",
   "mimetype": "text/x-python",
   "name": "python",
   "nbconvert_exporter": "python",
   "pygments_lexer": "ipython3",
   "version": "3.11.3"
  }
 },
 "nbformat": 4,
 "nbformat_minor": 5
}
